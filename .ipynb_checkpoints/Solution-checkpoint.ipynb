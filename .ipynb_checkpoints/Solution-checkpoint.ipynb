{
 "cells": [
  {
   "cell_type": "code",
   "execution_count": 37,
   "metadata": {},
   "outputs": [],
   "source": [
    "# Pandas import\n",
    "import pandas as pd\n",
    "\n",
    "# Reading the csv and getting dataframe\n",
    "df = pd.read_csv(r'./Titanic.csv')"
   ]
  },
  {
   "cell_type": "code",
   "execution_count": 38,
   "metadata": {},
   "outputs": [
    {
     "name": "stdout",
     "output_type": "stream",
     "text": [
      "PassengerId - 0\n",
      "Survived - 0\n",
      "Pclass - 0\n",
      "Name - 0\n",
      "Sex - 0\n",
      "Age - 1\n",
      "SibSp - 0\n",
      "Parch - 0\n",
      "Ticket - 0\n",
      "Fare - 0\n",
      "Cabin - 2\n",
      "Embarked - 0\n"
     ]
    }
   ],
   "source": [
    "# Task 1 - Prints a count of missing data for each column\n",
    "\n",
    "# Ietaring all columns\n",
    "for col in df.columns:\n",
    "    #Priniting the column name and not null fields sum for each column\n",
    "    print(f'{col} - {df[col].isna().sum()}')"
   ]
  },
  {
   "cell_type": "code",
   "execution_count": 39,
   "metadata": {
    "scrolled": true
   },
   "outputs": [
    {
     "data": {
      "text/plain": [
       "33.0"
      ]
     },
     "execution_count": 39,
     "metadata": {},
     "output_type": "execute_result"
    }
   ],
   "source": [
    "# Task 2 - Prints average age of all the people who survived\n",
    "\n",
    "# Getting dataframe where person survived\n",
    "rslt_df = df.loc[df['Survived'] ==1]\n",
    "\n",
    "# Getting rows where age is not null\n",
    "age_na_df=rslt_df.loc[rslt_df['Age'].notnull()]\n",
    "\n",
    "# Getting mean of not null fields of processed dataframe\n",
    "age_na_df['Age'].mean()"
   ]
  },
  {
   "cell_type": "code",
   "execution_count": null,
   "metadata": {},
   "outputs": [],
   "source": []
  }
 ],
 "metadata": {
  "kernelspec": {
   "display_name": "Python 3",
   "language": "python",
   "name": "python3"
  },
  "language_info": {
   "codemirror_mode": {
    "name": "ipython",
    "version": 3
   },
   "file_extension": ".py",
   "mimetype": "text/x-python",
   "name": "python",
   "nbconvert_exporter": "python",
   "pygments_lexer": "ipython3",
   "version": "3.8.3"
  }
 },
 "nbformat": 4,
 "nbformat_minor": 4
}
